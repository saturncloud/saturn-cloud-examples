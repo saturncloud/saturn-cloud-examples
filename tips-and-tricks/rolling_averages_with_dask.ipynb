{
 "cells": [
  {
   "cell_type": "markdown",
   "metadata": {},
   "source": [
    "# Dask Tips and Tricks: Rolling Averages in Dask\n",
    "\n",
    "How can a user take advantage of Dask parallelism while calculating rolling averages?"
   ]
  },
  {
   "cell_type": "markdown",
   "metadata": {},
   "source": [
    "> \"I need to calculate a rolling average of a numerical column, in time series data. In pandas, I can do this with rolling(x).mean() with sorted values, but what do I do in Dask, with distributed data?\"\n",
    "\n",
    "\n",
    "Great question! Time series data often poses unique challenges with distributed data and parallelization, but Dask can do it. Here's what we need to do.\n",
    "\n",
    "* Sort by index within AND across partitions\n",
    "* Know when to compute (convert to Pandas DF) or persist (process computations on cluster)\n",
    "* Run calculations, with attention to our need to cross partitions correctly.\n",
    "\n",
    "This example will walk you through these specific points, and demonstrate how it's done. We'll use New York City taxi trip data, and get the 30-day rolling average of base fare prices, for our example. Also, in order to really show how this can improve your life, we have chosen data too large to be held in memory at one time in pandas."
   ]
  },
  {
   "cell_type": "markdown",
   "metadata": {},
   "source": [
    "## Naive solution\n",
    "\n",
    "First we'll try with some generated data using the pandas-like API that dask provides."
   ]
  },
  {
   "cell_type": "code",
   "execution_count": 1,
   "metadata": {},
   "outputs": [
    {
     "data": {
      "text/html": [
       "<div>\n",
       "<style scoped>\n",
       "    .dataframe tbody tr th:only-of-type {\n",
       "        vertical-align: middle;\n",
       "    }\n",
       "\n",
       "    .dataframe tbody tr th {\n",
       "        vertical-align: top;\n",
       "    }\n",
       "\n",
       "    .dataframe thead th {\n",
       "        text-align: right;\n",
       "    }\n",
       "</style>\n",
       "<table border=\"1\" class=\"dataframe\">\n",
       "  <thead>\n",
       "    <tr style=\"text-align: right;\">\n",
       "      <th></th>\n",
       "      <th>id</th>\n",
       "      <th>x</th>\n",
       "      <th>y</th>\n",
       "    </tr>\n",
       "    <tr>\n",
       "      <th>timestamp</th>\n",
       "      <th></th>\n",
       "      <th></th>\n",
       "      <th></th>\n",
       "    </tr>\n",
       "  </thead>\n",
       "  <tbody>\n",
       "    <tr>\n",
       "      <th>2000-01-01 00:00:00</th>\n",
       "      <td>981.000000</td>\n",
       "      <td>0.660481</td>\n",
       "      <td>0.137203</td>\n",
       "    </tr>\n",
       "    <tr>\n",
       "      <th>2000-01-01 00:00:01</th>\n",
       "      <td>1012.500000</td>\n",
       "      <td>-0.090472</td>\n",
       "      <td>0.433623</td>\n",
       "    </tr>\n",
       "    <tr>\n",
       "      <th>2000-01-01 00:00:02</th>\n",
       "      <td>1031.333333</td>\n",
       "      <td>0.187964</td>\n",
       "      <td>-0.023170</td>\n",
       "    </tr>\n",
       "    <tr>\n",
       "      <th>2000-01-01 00:00:03</th>\n",
       "      <td>1023.750000</td>\n",
       "      <td>0.206128</td>\n",
       "      <td>0.005866</td>\n",
       "    </tr>\n",
       "    <tr>\n",
       "      <th>2000-01-01 00:00:04</th>\n",
       "      <td>1018.200000</td>\n",
       "      <td>0.068513</td>\n",
       "      <td>-0.174119</td>\n",
       "    </tr>\n",
       "    <tr>\n",
       "      <th>...</th>\n",
       "      <td>...</td>\n",
       "      <td>...</td>\n",
       "      <td>...</td>\n",
       "    </tr>\n",
       "    <tr>\n",
       "      <th>2000-01-30 23:59:55</th>\n",
       "      <td>999.953507</td>\n",
       "      <td>0.002255</td>\n",
       "      <td>-0.000729</td>\n",
       "    </tr>\n",
       "    <tr>\n",
       "      <th>2000-01-30 23:59:56</th>\n",
       "      <td>999.953484</td>\n",
       "      <td>0.002248</td>\n",
       "      <td>-0.000720</td>\n",
       "    </tr>\n",
       "    <tr>\n",
       "      <th>2000-01-30 23:59:57</th>\n",
       "      <td>999.953472</td>\n",
       "      <td>0.002237</td>\n",
       "      <td>-0.000723</td>\n",
       "    </tr>\n",
       "    <tr>\n",
       "      <th>2000-01-30 23:59:58</th>\n",
       "      <td>999.953310</td>\n",
       "      <td>0.002233</td>\n",
       "      <td>-0.000723</td>\n",
       "    </tr>\n",
       "    <tr>\n",
       "      <th>2000-01-30 23:59:59</th>\n",
       "      <td>999.953495</td>\n",
       "      <td>0.002236</td>\n",
       "      <td>-0.000727</td>\n",
       "    </tr>\n",
       "  </tbody>\n",
       "</table>\n",
       "<p>2592000 rows × 3 columns</p>\n",
       "</div>"
      ],
      "text/plain": [
       "                              id         x         y\n",
       "timestamp                                           \n",
       "2000-01-01 00:00:00   981.000000  0.660481  0.137203\n",
       "2000-01-01 00:00:01  1012.500000 -0.090472  0.433623\n",
       "2000-01-01 00:00:02  1031.333333  0.187964 -0.023170\n",
       "2000-01-01 00:00:03  1023.750000  0.206128  0.005866\n",
       "2000-01-01 00:00:04  1018.200000  0.068513 -0.174119\n",
       "...                          ...       ...       ...\n",
       "2000-01-30 23:59:55   999.953507  0.002255 -0.000729\n",
       "2000-01-30 23:59:56   999.953484  0.002248 -0.000720\n",
       "2000-01-30 23:59:57   999.953472  0.002237 -0.000723\n",
       "2000-01-30 23:59:58   999.953310  0.002233 -0.000723\n",
       "2000-01-30 23:59:59   999.953495  0.002236 -0.000727\n",
       "\n",
       "[2592000 rows x 3 columns]"
      ]
     },
     "execution_count": 1,
     "metadata": {},
     "output_type": "execute_result"
    }
   ],
   "source": [
    "import dask\n",
    "\n",
    "timeseries = dask.datasets.timeseries()\n",
    "timeseries.rolling('1D').mean().compute()"
   ]
  },
  {
   "cell_type": "markdown",
   "metadata": {},
   "source": [
    "Woohoo! That worked as expected and now we have the results. Let's try that with some real data on a distributed cluster."
   ]
  },
  {
   "cell_type": "markdown",
   "metadata": {},
   "source": [
    "## Set Up A Cluster\n",
    "\n",
    "This is going to employ a three worker CPU machine cluster, so we can handle some large data."
   ]
  },
  {
   "cell_type": "code",
   "execution_count": 2,
   "metadata": {},
   "outputs": [
    {
     "name": "stdout",
     "output_type": "stream",
     "text": [
      "[2020-11-20 21:09:05] INFO - dask-saturn | Cluster is ready\n",
      "[2020-11-20 21:09:05] INFO - dask-saturn | Registering default plugins\n",
      "[2020-11-20 21:09:05] INFO - dask-saturn | {'tcp://10.0.18.225:36265': {'status': 'repeat'}, 'tcp://10.0.22.66:46375': {'status': 'repeat'}, 'tcp://10.0.7.129:39773': {'status': 'repeat'}}\n"
     ]
    },
    {
     "data": {
      "text/html": [
       "<table style=\"border: 2px solid white;\">\n",
       "<tr>\n",
       "<td style=\"vertical-align: top; border: 0px solid white\">\n",
       "<h3 style=\"text-align: left;\">Client</h3>\n",
       "<ul style=\"text-align: left; list-style: none; margin: 0; padding: 0;\">\n",
       "  <li><b>Scheduler: </b>tcp://d-fakej-tips-and-tricks-82863533ad5a4370a84837cd924c432f.main-namespace:8786</li>\n",
       "  <li><b>Dashboard: </b><a href='https://d-fakej-tips-and-tricks-82863533ad5a4370a84837cd924c432f.release-staging.saturncloud.org' target='_blank'>https://d-fakej-tips-and-tricks-82863533ad5a4370a84837cd924c432f.release-staging.saturncloud.org</a></li>\n",
       "</ul>\n",
       "</td>\n",
       "<td style=\"vertical-align: top; border: 0px solid white\">\n",
       "<h3 style=\"text-align: left;\">Cluster</h3>\n",
       "<ul style=\"text-align: left; list-style:none; margin: 0; padding: 0;\">\n",
       "  <li><b>Workers: </b>3</li>\n",
       "  <li><b>Cores: </b>12</li>\n",
       "  <li><b>Memory: </b>94.50 GB</li>\n",
       "</ul>\n",
       "</td>\n",
       "</tr>\n",
       "</table>"
      ],
      "text/plain": [
       "<Client: 'tcp://10.0.18.227:8786' processes=3 threads=12, memory=94.50 GB>"
      ]
     },
     "execution_count": 2,
     "metadata": {},
     "output_type": "execute_result"
    }
   ],
   "source": [
    "from dask_saturn import SaturnCluster\n",
    "from dask.distributed import Client\n",
    "\n",
    "cluster = SaturnCluster(\n",
    "    scheduler_size='medium',\n",
    "    worker_size='xlarge',\n",
    "    n_workers=3,\n",
    "    nthreads=4,\n",
    ")\n",
    "client = Client(cluster)\n",
    "client"
   ]
  },
  {
   "cell_type": "markdown",
   "metadata": {},
   "source": [
    "***\n",
    "\n",
    "## Load Large Dataset \n",
    "\n",
    "NYC taxi data is a good use case, because it is too large to hold in pandas memory. That really shows us what Dask can do!"
   ]
  },
  {
   "cell_type": "code",
   "execution_count": 3,
   "metadata": {},
   "outputs": [
    {
     "data": {
      "text/plain": [
       "['nyc-tlc/trip data/yellow_tripdata_2019-01.csv',\n",
       " 'nyc-tlc/trip data/yellow_tripdata_2019-02.csv',\n",
       " 'nyc-tlc/trip data/yellow_tripdata_2019-03.csv',\n",
       " 'nyc-tlc/trip data/yellow_tripdata_2019-04.csv',\n",
       " 'nyc-tlc/trip data/yellow_tripdata_2019-05.csv',\n",
       " 'nyc-tlc/trip data/yellow_tripdata_2019-06.csv',\n",
       " 'nyc-tlc/trip data/yellow_tripdata_2019-07.csv',\n",
       " 'nyc-tlc/trip data/yellow_tripdata_2019-08.csv',\n",
       " 'nyc-tlc/trip data/yellow_tripdata_2019-09.csv',\n",
       " 'nyc-tlc/trip data/yellow_tripdata_2019-10.csv',\n",
       " 'nyc-tlc/trip data/yellow_tripdata_2019-11.csv',\n",
       " 'nyc-tlc/trip data/yellow_tripdata_2019-12.csv']"
      ]
     },
     "execution_count": 3,
     "metadata": {},
     "output_type": "execute_result"
    }
   ],
   "source": [
    "import s3fs\n",
    "\n",
    "s3 = s3fs.S3FileSystem(anon=True)\n",
    "files_2019 = 's3://nyc-tlc/trip data/yellow_tripdata_2019-*.csv'\n",
    "s3.glob(files_2019)"
   ]
  },
  {
   "cell_type": "code",
   "execution_count": 4,
   "metadata": {},
   "outputs": [
    {
     "name": "stdout",
     "output_type": "stream",
     "text": [
      "CPU times: user 29.7 ms, sys: 24.7 ms, total: 54.4 ms\n",
      "Wall time: 107 ms\n"
     ]
    }
   ],
   "source": [
    "%%time\n",
    "import dask.dataframe as dd\n",
    "\n",
    "taxi = dd.read_csv(\n",
    "    files_2019,\n",
    "    parse_dates=['tpep_pickup_datetime', 'tpep_dropoff_datetime'],\n",
    "    storage_options={'anon': True},\n",
    "    assume_missing=True,\n",
    ")"
   ]
  },
  {
   "cell_type": "markdown",
   "metadata": {},
   "source": [
    "Great, we have our Dask Dataframe ready to go.\n",
    "\n",
    "### Dataset Size\n",
    "\n",
    "That's a lot of rows!"
   ]
  },
  {
   "cell_type": "code",
   "execution_count": 5,
   "metadata": {},
   "outputs": [
    {
     "data": {
      "text/plain": [
       "84399019"
      ]
     },
     "execution_count": 5,
     "metadata": {},
     "output_type": "execute_result"
    }
   ],
   "source": [
    "taxi.shape[0].compute()"
   ]
  },
  {
   "cell_type": "markdown",
   "metadata": {},
   "source": [
    "***\n",
    "\n",
    "## Shape data\n",
    "\n",
    "Set pickup datetime as our index. This will cause the data to be sorted and repartitioned. This is the most time-intensive part of this job.\n"
   ]
  },
  {
   "cell_type": "code",
   "execution_count": 6,
   "metadata": {},
   "outputs": [
    {
     "name": "stdout",
     "output_type": "stream",
     "text": [
      "CPU times: user 286 ms, sys: 32.7 ms, total: 319 ms\n",
      "Wall time: 46.7 s\n"
     ]
    }
   ],
   "source": [
    "%%time\n",
    "taxi = taxi.set_index(\"tpep_pickup_datetime\")"
   ]
  },
  {
   "cell_type": "markdown",
   "metadata": {},
   "source": [
    "We can check the boundaries of our partitions by calling `taxi.divisions`. Note that the partitions aren't evenly distributed across time, but this doesn't matter. Let's look at 10 just to get a sense."
   ]
  },
  {
   "cell_type": "code",
   "execution_count": 7,
   "metadata": {},
   "outputs": [
    {
     "data": {
      "text/plain": [
       "(Timestamp('2001-01-01 00:02:08'),\n",
       " Timestamp('2009-01-01 00:00:25'),\n",
       " Timestamp('2019-01-03 09:42:40'),\n",
       " Timestamp('2019-01-06 01:31:20.140165120'),\n",
       " Timestamp('2019-01-09 01:46:55.242659840'),\n",
       " Timestamp('2019-01-11 17:54:00.710126592'),\n",
       " Timestamp('2019-01-14 07:44:36'),\n",
       " Timestamp('2019-01-16 21:16:18'),\n",
       " Timestamp('2019-01-19 10:44:53'),\n",
       " Timestamp('2019-01-22 16:23:55'))"
      ]
     },
     "execution_count": 7,
     "metadata": {},
     "output_type": "execute_result"
    }
   ],
   "source": [
    "taxi.divisions[:10]"
   ]
  },
  {
   "cell_type": "markdown",
   "metadata": {},
   "source": [
    "Our taxi dataset has some unlikely extreme dates on the outer edges, so I'm going to filter by date just to make sure we have reliable data."
   ]
  },
  {
   "cell_type": "code",
   "execution_count": 8,
   "metadata": {},
   "outputs": [
    {
     "name": "stdout",
     "output_type": "stream",
     "text": [
      "CPU times: user 584 ms, sys: 30.3 ms, total: 615 ms\n",
      "Wall time: 1min 14s\n"
     ]
    }
   ],
   "source": [
    "%%time\n",
    "from dask.distributed import wait\n",
    "\n",
    "taxi = taxi[\"2019-01-01\": \"2020-01-01\"]\n",
    "taxi = taxi.persist()\n",
    "_ = wait(taxi)"
   ]
  },
  {
   "cell_type": "markdown",
   "metadata": {},
   "source": [
    "***\n",
    "### A Note On Persist and Compute\n",
    "\n",
    "Lots of new users of Dask find the `.persist()` and `.compute()` processes confusing. This is understandable! But the answer is not as hard as you might think.\n",
    "\n",
    "First, remember we have several machines working for us right now. We have our Jupyter instance right here running on one, and then our cluster of three worker machines also.\n",
    "\n",
    "If we use `.compute()`, we are asking Dask to take all the computations and adjustments to the data that we have queued up, and run them, and bring it all to the surface here, in Jupyter. That means if it *was* distributed we want to convert it into a local object here and now. If it's a Dask Dataframe, when we call `.compute()`, we're saying \"Run the transformations we've queued, and convert this into a pandas dataframe immediately.\". If our data is too big to be held in local pandas memory, this can be a disaster! But if it is small, then we might be fine.\n",
    "\n",
    "If we use `.persist()`, we are asking Dask to take all the computations and adjustments to the data that we have queued up, and run them, but then the object is going to remain distributed and will live on the cluster, not on the Jupyter instance. So when we do this with a Dask Dataframe, we are telling our cluster \"Run the transformations we've queued, and leave this as a distributed Dask Dataframe.\"\n",
    "\n",
    "So, if you want to process all the delayed tasks you've applied to a Dask object, either of these methods will do it. The difference is where your object will live at the end.\n",
    "\n",
    "***\n"
   ]
  },
  {
   "cell_type": "markdown",
   "metadata": {},
   "source": [
    "### Begin Calculations\n",
    "\n",
    "Back to work! Date is now our index, and our data is sorted by this index within and across partitions.\n",
    "\n",
    "> Note: `fare_amount` is the column we're going to work on, so here we'll average the fare by date, returning a Series that is the average fare per date. This means our end result is going to be the rolling average of the average daily fare - this may not be what you want to do in a real business case, but for this situation working with one value per date makes the computations easier to explain. We could change our grain to hour or minute, and aggregate that way, or not aggregate at all and fill in all the intervening time periods.\n",
    "\n",
    "Let's see what we are working with:"
   ]
  },
  {
   "cell_type": "code",
   "execution_count": 9,
   "metadata": {},
   "outputs": [
    {
     "name": "stdout",
     "output_type": "stream",
     "text": [
      "CPU times: user 5.57 ms, sys: 153 µs, total: 5.72 ms\n",
      "Wall time: 14.9 ms\n"
     ]
    },
    {
     "data": {
      "text/plain": [
       "tpep_pickup_datetime\n",
       "2019-12-31 23:59:49    10.0\n",
       "2019-12-31 23:59:51    24.0\n",
       "2019-12-31 23:59:52     9.5\n",
       "2020-01-01 00:00:06    16.0\n",
       "2020-01-01 00:00:46    13.0\n",
       "2020-01-01 00:02:13     4.0\n",
       "2020-01-01 00:03:25    17.0\n",
       "2020-01-01 00:03:35    16.5\n",
       "2020-01-01 03:51:26    13.0\n",
       "2020-01-01 23:46:06    17.5\n",
       "Name: fare_amount, dtype: float64"
      ]
     },
     "execution_count": 9,
     "metadata": {},
     "output_type": "execute_result"
    }
   ],
   "source": [
    "%%time\n",
    "taxi.fare_amount.tail(10)"
   ]
  },
  {
   "cell_type": "markdown",
   "metadata": {},
   "source": [
    "Now we can try using the `rolling` method. Note it is very fast here because it is lazily evaluated (nothing has been calculated yet)."
   ]
  },
  {
   "cell_type": "code",
   "execution_count": 10,
   "metadata": {},
   "outputs": [
    {
     "name": "stdout",
     "output_type": "stream",
     "text": [
      "CPU times: user 46.1 ms, sys: 3.83 ms, total: 49.9 ms\n",
      "Wall time: 50.5 ms\n"
     ]
    }
   ],
   "source": [
    "%%time\n",
    "rolling_fares = taxi.fare_amount.rolling('30D').mean()"
   ]
  },
  {
   "cell_type": "markdown",
   "metadata": {},
   "source": [
    "We can check the tail of the data to see if the results seem reasonable."
   ]
  },
  {
   "cell_type": "code",
   "execution_count": 11,
   "metadata": {},
   "outputs": [
    {
     "data": {
      "text/plain": [
       "tpep_pickup_datetime\n",
       "2020-01-01 00:02:13    13.581654\n",
       "2020-01-01 00:03:25    13.581566\n",
       "2020-01-01 00:03:35    13.581567\n",
       "2020-01-01 03:51:26    13.573353\n",
       "2020-01-01 23:46:06    13.577013\n",
       "Name: fare_amount, dtype: float64"
      ]
     },
     "execution_count": 11,
     "metadata": {},
     "output_type": "execute_result"
    }
   ],
   "source": [
    "rolling_fares.tail()"
   ]
  },
  {
   "cell_type": "markdown",
   "metadata": {},
   "source": [
    "## Attach Feature to Original Dataset\n",
    "\n",
    "Convert the Dask Series to a Dask Dataframe, and then merge on the shared indices."
   ]
  },
  {
   "cell_type": "code",
   "execution_count": 12,
   "metadata": {},
   "outputs": [
    {
     "data": {
      "text/plain": [
       "dask.dataframe.core.DataFrame"
      ]
     },
     "execution_count": 12,
     "metadata": {},
     "output_type": "execute_result"
    }
   ],
   "source": [
    "rolling_fares_df = rolling_fares.to_frame(name=\"fare_amount_rolled\")\n",
    "type(rolling_fares_df)"
   ]
  },
  {
   "cell_type": "markdown",
   "metadata": {},
   "source": [
    "### Finally, time to merge!\n",
    "\n",
    "The merge itself is very fast here because it is lazily evaluated.\n",
    "This creates our new dataset, including all dates and with averages calculated."
   ]
  },
  {
   "cell_type": "code",
   "execution_count": 13,
   "metadata": {},
   "outputs": [],
   "source": [
    "taxi_new = taxi.join(rolling_fares_df, how='outer')"
   ]
  },
  {
   "cell_type": "code",
   "execution_count": 14,
   "metadata": {},
   "outputs": [
    {
     "data": {
      "text/plain": [
       "dask.dataframe.core.DataFrame"
      ]
     },
     "execution_count": 14,
     "metadata": {},
     "output_type": "execute_result"
    }
   ],
   "source": [
    "type(taxi_new)"
   ]
  },
  {
   "cell_type": "code",
   "execution_count": 15,
   "metadata": {},
   "outputs": [
    {
     "data": {
      "text/plain": [
       "368539618"
      ]
     },
     "execution_count": 15,
     "metadata": {},
     "output_type": "execute_result"
    }
   ],
   "source": [
    "len(taxi_new)"
   ]
  },
  {
   "cell_type": "markdown",
   "metadata": {},
   "source": [
    "## Conclusion\n",
    "\n",
    "And with that, our dataset is ready! \n",
    "* All our original fields (not all shown here, for ease of reading)\n",
    "* 30 day rolling average of fare, if at least one fare found in the last 30 days\n",
    "\n",
    "**Remember**, this has been appended back to the original object, which is too large to hold in memory, so we should not `.compute()` it."
   ]
  },
  {
   "cell_type": "code",
   "execution_count": 16,
   "metadata": {},
   "outputs": [
    {
     "data": {
      "text/html": [
       "<div>\n",
       "<style scoped>\n",
       "    .dataframe tbody tr th:only-of-type {\n",
       "        vertical-align: middle;\n",
       "    }\n",
       "\n",
       "    .dataframe tbody tr th {\n",
       "        vertical-align: top;\n",
       "    }\n",
       "\n",
       "    .dataframe thead th {\n",
       "        text-align: right;\n",
       "    }\n",
       "</style>\n",
       "<table border=\"1\" class=\"dataframe\">\n",
       "  <thead>\n",
       "    <tr style=\"text-align: right;\">\n",
       "      <th></th>\n",
       "      <th>VendorID</th>\n",
       "      <th>tpep_dropoff_datetime</th>\n",
       "      <th>passenger_count</th>\n",
       "      <th>trip_distance</th>\n",
       "      <th>tip_amount</th>\n",
       "      <th>fare_amount</th>\n",
       "      <th>total_amount</th>\n",
       "      <th>fare_amount_rolled</th>\n",
       "    </tr>\n",
       "    <tr>\n",
       "      <th>tpep_pickup_datetime</th>\n",
       "      <th></th>\n",
       "      <th></th>\n",
       "      <th></th>\n",
       "      <th></th>\n",
       "      <th></th>\n",
       "      <th></th>\n",
       "      <th></th>\n",
       "      <th></th>\n",
       "    </tr>\n",
       "  </thead>\n",
       "  <tbody>\n",
       "    <tr>\n",
       "      <th>2019-01-01 00:00:00</th>\n",
       "      <td>2.0</td>\n",
       "      <td>2019-01-01 01:03:12</td>\n",
       "      <td>2.0</td>\n",
       "      <td>7.37</td>\n",
       "      <td>0.00</td>\n",
       "      <td>23.5</td>\n",
       "      <td>24.80</td>\n",
       "      <td>23.500000</td>\n",
       "    </tr>\n",
       "    <tr>\n",
       "      <th>2019-01-01 00:00:01</th>\n",
       "      <td>2.0</td>\n",
       "      <td>2019-01-01 00:05:17</td>\n",
       "      <td>6.0</td>\n",
       "      <td>1.73</td>\n",
       "      <td>0.00</td>\n",
       "      <td>7.0</td>\n",
       "      <td>8.30</td>\n",
       "      <td>15.250000</td>\n",
       "    </tr>\n",
       "    <tr>\n",
       "      <th>2019-01-01 00:00:03</th>\n",
       "      <td>1.0</td>\n",
       "      <td>2019-01-01 00:04:26</td>\n",
       "      <td>1.0</td>\n",
       "      <td>0.60</td>\n",
       "      <td>0.00</td>\n",
       "      <td>5.0</td>\n",
       "      <td>6.30</td>\n",
       "      <td>11.833333</td>\n",
       "    </tr>\n",
       "    <tr>\n",
       "      <th>2019-01-01 00:00:05</th>\n",
       "      <td>4.0</td>\n",
       "      <td>2019-01-01 00:11:05</td>\n",
       "      <td>1.0</td>\n",
       "      <td>1.53</td>\n",
       "      <td>0.00</td>\n",
       "      <td>9.0</td>\n",
       "      <td>10.30</td>\n",
       "      <td>11.125000</td>\n",
       "    </tr>\n",
       "    <tr>\n",
       "      <th>2019-01-01 00:00:06</th>\n",
       "      <td>1.0</td>\n",
       "      <td>2019-01-01 00:44:05</td>\n",
       "      <td>1.0</td>\n",
       "      <td>3.20</td>\n",
       "      <td>5.45</td>\n",
       "      <td>26.0</td>\n",
       "      <td>32.75</td>\n",
       "      <td>14.100000</td>\n",
       "    </tr>\n",
       "    <tr>\n",
       "      <th>2019-01-01 00:00:09</th>\n",
       "      <td>2.0</td>\n",
       "      <td>2019-01-01 00:18:03</td>\n",
       "      <td>2.0</td>\n",
       "      <td>6.45</td>\n",
       "      <td>4.46</td>\n",
       "      <td>21.0</td>\n",
       "      <td>26.76</td>\n",
       "      <td>15.250000</td>\n",
       "    </tr>\n",
       "    <tr>\n",
       "      <th>2019-01-01 00:00:11</th>\n",
       "      <td>2.0</td>\n",
       "      <td>2019-01-01 00:04:24</td>\n",
       "      <td>1.0</td>\n",
       "      <td>1.29</td>\n",
       "      <td>1.46</td>\n",
       "      <td>6.0</td>\n",
       "      <td>8.76</td>\n",
       "      <td>13.928571</td>\n",
       "    </tr>\n",
       "    <tr>\n",
       "      <th>2019-01-01 00:00:13</th>\n",
       "      <td>2.0</td>\n",
       "      <td>2019-01-01 00:18:33</td>\n",
       "      <td>1.0</td>\n",
       "      <td>9.36</td>\n",
       "      <td>0.00</td>\n",
       "      <td>27.0</td>\n",
       "      <td>28.30</td>\n",
       "      <td>15.562500</td>\n",
       "    </tr>\n",
       "    <tr>\n",
       "      <th>2019-01-01 00:00:14</th>\n",
       "      <td>1.0</td>\n",
       "      <td>2019-01-01 00:01:33</td>\n",
       "      <td>1.0</td>\n",
       "      <td>0.20</td>\n",
       "      <td>0.00</td>\n",
       "      <td>3.0</td>\n",
       "      <td>4.30</td>\n",
       "      <td>14.166667</td>\n",
       "    </tr>\n",
       "    <tr>\n",
       "      <th>2019-01-01 00:00:15</th>\n",
       "      <td>2.0</td>\n",
       "      <td>2019-01-01 00:02:07</td>\n",
       "      <td>1.0</td>\n",
       "      <td>0.39</td>\n",
       "      <td>0.00</td>\n",
       "      <td>3.5</td>\n",
       "      <td>4.80</td>\n",
       "      <td>13.100000</td>\n",
       "    </tr>\n",
       "  </tbody>\n",
       "</table>\n",
       "</div>"
      ],
      "text/plain": [
       "                      VendorID tpep_dropoff_datetime  passenger_count  \\\n",
       "tpep_pickup_datetime                                                    \n",
       "2019-01-01 00:00:00        2.0   2019-01-01 01:03:12              2.0   \n",
       "2019-01-01 00:00:01        2.0   2019-01-01 00:05:17              6.0   \n",
       "2019-01-01 00:00:03        1.0   2019-01-01 00:04:26              1.0   \n",
       "2019-01-01 00:00:05        4.0   2019-01-01 00:11:05              1.0   \n",
       "2019-01-01 00:00:06        1.0   2019-01-01 00:44:05              1.0   \n",
       "2019-01-01 00:00:09        2.0   2019-01-01 00:18:03              2.0   \n",
       "2019-01-01 00:00:11        2.0   2019-01-01 00:04:24              1.0   \n",
       "2019-01-01 00:00:13        2.0   2019-01-01 00:18:33              1.0   \n",
       "2019-01-01 00:00:14        1.0   2019-01-01 00:01:33              1.0   \n",
       "2019-01-01 00:00:15        2.0   2019-01-01 00:02:07              1.0   \n",
       "\n",
       "                      trip_distance  tip_amount  fare_amount  total_amount  \\\n",
       "tpep_pickup_datetime                                                         \n",
       "2019-01-01 00:00:00            7.37        0.00         23.5         24.80   \n",
       "2019-01-01 00:00:01            1.73        0.00          7.0          8.30   \n",
       "2019-01-01 00:00:03            0.60        0.00          5.0          6.30   \n",
       "2019-01-01 00:00:05            1.53        0.00          9.0         10.30   \n",
       "2019-01-01 00:00:06            3.20        5.45         26.0         32.75   \n",
       "2019-01-01 00:00:09            6.45        4.46         21.0         26.76   \n",
       "2019-01-01 00:00:11            1.29        1.46          6.0          8.76   \n",
       "2019-01-01 00:00:13            9.36        0.00         27.0         28.30   \n",
       "2019-01-01 00:00:14            0.20        0.00          3.0          4.30   \n",
       "2019-01-01 00:00:15            0.39        0.00          3.5          4.80   \n",
       "\n",
       "                      fare_amount_rolled  \n",
       "tpep_pickup_datetime                      \n",
       "2019-01-01 00:00:00            23.500000  \n",
       "2019-01-01 00:00:01            15.250000  \n",
       "2019-01-01 00:00:03            11.833333  \n",
       "2019-01-01 00:00:05            11.125000  \n",
       "2019-01-01 00:00:06            14.100000  \n",
       "2019-01-01 00:00:09            15.250000  \n",
       "2019-01-01 00:00:11            13.928571  \n",
       "2019-01-01 00:00:13            15.562500  \n",
       "2019-01-01 00:00:14            14.166667  \n",
       "2019-01-01 00:00:15            13.100000  "
      ]
     },
     "execution_count": 16,
     "metadata": {},
     "output_type": "execute_result"
    }
   ],
   "source": [
    "taxi_new[['VendorID', 'tpep_dropoff_datetime','passenger_count','trip_distance','tip_amount',\n",
    "          'fare_amount', 'total_amount', 'fare_amount_rolled',]].head(10)"
   ]
  },
  {
   "cell_type": "code",
   "execution_count": 17,
   "metadata": {},
   "outputs": [
    {
     "data": {
      "text/html": [
       "<div>\n",
       "<style scoped>\n",
       "    .dataframe tbody tr th:only-of-type {\n",
       "        vertical-align: middle;\n",
       "    }\n",
       "\n",
       "    .dataframe tbody tr th {\n",
       "        vertical-align: top;\n",
       "    }\n",
       "\n",
       "    .dataframe thead th {\n",
       "        text-align: right;\n",
       "    }\n",
       "</style>\n",
       "<table border=\"1\" class=\"dataframe\">\n",
       "  <thead>\n",
       "    <tr style=\"text-align: right;\">\n",
       "      <th></th>\n",
       "      <th>VendorID</th>\n",
       "      <th>tpep_dropoff_datetime</th>\n",
       "      <th>passenger_count</th>\n",
       "      <th>trip_distance</th>\n",
       "      <th>tip_amount</th>\n",
       "      <th>fare_amount</th>\n",
       "      <th>total_amount</th>\n",
       "      <th>fare_amount_rolled</th>\n",
       "    </tr>\n",
       "    <tr>\n",
       "      <th>tpep_pickup_datetime</th>\n",
       "      <th></th>\n",
       "      <th></th>\n",
       "      <th></th>\n",
       "      <th></th>\n",
       "      <th></th>\n",
       "      <th></th>\n",
       "      <th></th>\n",
       "      <th></th>\n",
       "    </tr>\n",
       "  </thead>\n",
       "  <tbody>\n",
       "    <tr>\n",
       "      <th>2019-12-31 23:59:28</th>\n",
       "      <td>2.0</td>\n",
       "      <td>2020-01-01 00:13:07</td>\n",
       "      <td>2.0</td>\n",
       "      <td>11.65</td>\n",
       "      <td>0.00</td>\n",
       "      <td>31.5</td>\n",
       "      <td>32.80</td>\n",
       "      <td>13.581848</td>\n",
       "    </tr>\n",
       "    <tr>\n",
       "      <th>2019-12-31 23:59:32</th>\n",
       "      <td>2.0</td>\n",
       "      <td>2020-01-01 00:06:16</td>\n",
       "      <td>1.0</td>\n",
       "      <td>2.50</td>\n",
       "      <td>0.00</td>\n",
       "      <td>9.0</td>\n",
       "      <td>10.30</td>\n",
       "      <td>13.581843</td>\n",
       "    </tr>\n",
       "    <tr>\n",
       "      <th>2019-12-31 23:59:36</th>\n",
       "      <td>2.0</td>\n",
       "      <td>2020-01-01 00:11:16</td>\n",
       "      <td>1.0</td>\n",
       "      <td>4.48</td>\n",
       "      <td>0.00</td>\n",
       "      <td>15.0</td>\n",
       "      <td>18.80</td>\n",
       "      <td>13.581833</td>\n",
       "    </tr>\n",
       "    <tr>\n",
       "      <th>2019-12-31 23:59:39</th>\n",
       "      <td>2.0</td>\n",
       "      <td>2020-01-01 00:02:59</td>\n",
       "      <td>5.0</td>\n",
       "      <td>0.35</td>\n",
       "      <td>0.00</td>\n",
       "      <td>4.0</td>\n",
       "      <td>7.80</td>\n",
       "      <td>13.581831</td>\n",
       "    </tr>\n",
       "    <tr>\n",
       "      <th>2019-12-31 23:59:41</th>\n",
       "      <td>2.0</td>\n",
       "      <td>2020-01-01 00:20:22</td>\n",
       "      <td>1.0</td>\n",
       "      <td>6.58</td>\n",
       "      <td>0.00</td>\n",
       "      <td>22.5</td>\n",
       "      <td>26.30</td>\n",
       "      <td>13.581837</td>\n",
       "    </tr>\n",
       "    <tr>\n",
       "      <th>2019-12-31 23:59:41</th>\n",
       "      <td>2.0</td>\n",
       "      <td>2020-01-01 00:20:22</td>\n",
       "      <td>1.0</td>\n",
       "      <td>6.58</td>\n",
       "      <td>0.00</td>\n",
       "      <td>22.5</td>\n",
       "      <td>26.30</td>\n",
       "      <td>13.581838</td>\n",
       "    </tr>\n",
       "    <tr>\n",
       "      <th>2019-12-31 23:59:41</th>\n",
       "      <td>2.0</td>\n",
       "      <td>2020-01-01 00:30:05</td>\n",
       "      <td>3.0</td>\n",
       "      <td>4.02</td>\n",
       "      <td>4.86</td>\n",
       "      <td>20.5</td>\n",
       "      <td>29.16</td>\n",
       "      <td>13.581837</td>\n",
       "    </tr>\n",
       "    <tr>\n",
       "      <th>2019-12-31 23:59:41</th>\n",
       "      <td>2.0</td>\n",
       "      <td>2020-01-01 00:30:05</td>\n",
       "      <td>3.0</td>\n",
       "      <td>4.02</td>\n",
       "      <td>4.86</td>\n",
       "      <td>20.5</td>\n",
       "      <td>29.16</td>\n",
       "      <td>13.581838</td>\n",
       "    </tr>\n",
       "    <tr>\n",
       "      <th>2019-12-31 23:59:43</th>\n",
       "      <td>1.0</td>\n",
       "      <td>2020-01-01 00:31:03</td>\n",
       "      <td>0.0</td>\n",
       "      <td>4.80</td>\n",
       "      <td>0.00</td>\n",
       "      <td>22.0</td>\n",
       "      <td>25.80</td>\n",
       "      <td>13.581839</td>\n",
       "    </tr>\n",
       "    <tr>\n",
       "      <th>2019-12-31 23:59:47</th>\n",
       "      <td>2.0</td>\n",
       "      <td>2020-01-01 00:18:23</td>\n",
       "      <td>1.0</td>\n",
       "      <td>1.36</td>\n",
       "      <td>0.00</td>\n",
       "      <td>12.0</td>\n",
       "      <td>15.80</td>\n",
       "      <td>13.581835</td>\n",
       "    </tr>\n",
       "    <tr>\n",
       "      <th>2019-12-31 23:59:49</th>\n",
       "      <td>1.0</td>\n",
       "      <td>2020-01-01 00:15:08</td>\n",
       "      <td>1.0</td>\n",
       "      <td>0.80</td>\n",
       "      <td>0.00</td>\n",
       "      <td>10.0</td>\n",
       "      <td>13.80</td>\n",
       "      <td>13.581835</td>\n",
       "    </tr>\n",
       "    <tr>\n",
       "      <th>2019-12-31 23:59:51</th>\n",
       "      <td>2.0</td>\n",
       "      <td>2020-01-01 00:16:04</td>\n",
       "      <td>5.0</td>\n",
       "      <td>8.31</td>\n",
       "      <td>7.86</td>\n",
       "      <td>24.0</td>\n",
       "      <td>39.28</td>\n",
       "      <td>13.581833</td>\n",
       "    </tr>\n",
       "    <tr>\n",
       "      <th>2019-12-31 23:59:52</th>\n",
       "      <td>1.0</td>\n",
       "      <td>2020-01-01 00:09:31</td>\n",
       "      <td>1.0</td>\n",
       "      <td>2.30</td>\n",
       "      <td>0.00</td>\n",
       "      <td>9.5</td>\n",
       "      <td>13.30</td>\n",
       "      <td>13.581832</td>\n",
       "    </tr>\n",
       "    <tr>\n",
       "      <th>2020-01-01 00:00:06</th>\n",
       "      <td>2.0</td>\n",
       "      <td>2020-01-01 00:18:13</td>\n",
       "      <td>1.0</td>\n",
       "      <td>4.51</td>\n",
       "      <td>0.00</td>\n",
       "      <td>16.0</td>\n",
       "      <td>19.80</td>\n",
       "      <td>13.581819</td>\n",
       "    </tr>\n",
       "    <tr>\n",
       "      <th>2020-01-01 00:00:46</th>\n",
       "      <td>2.0</td>\n",
       "      <td>2020-01-01 00:16:15</td>\n",
       "      <td>1.0</td>\n",
       "      <td>3.01</td>\n",
       "      <td>3.36</td>\n",
       "      <td>13.0</td>\n",
       "      <td>20.16</td>\n",
       "      <td>13.581769</td>\n",
       "    </tr>\n",
       "    <tr>\n",
       "      <th>2020-01-01 00:02:13</th>\n",
       "      <td>2.0</td>\n",
       "      <td>2020-01-01 00:04:55</td>\n",
       "      <td>1.0</td>\n",
       "      <td>0.44</td>\n",
       "      <td>1.56</td>\n",
       "      <td>4.0</td>\n",
       "      <td>9.36</td>\n",
       "      <td>13.581654</td>\n",
       "    </tr>\n",
       "    <tr>\n",
       "      <th>2020-01-01 00:03:25</th>\n",
       "      <td>2.0</td>\n",
       "      <td>2020-01-01 00:27:57</td>\n",
       "      <td>1.0</td>\n",
       "      <td>3.04</td>\n",
       "      <td>0.00</td>\n",
       "      <td>17.0</td>\n",
       "      <td>20.80</td>\n",
       "      <td>13.581566</td>\n",
       "    </tr>\n",
       "    <tr>\n",
       "      <th>2020-01-01 00:03:35</th>\n",
       "      <td>2.0</td>\n",
       "      <td>2020-01-01 00:24:24</td>\n",
       "      <td>5.0</td>\n",
       "      <td>3.70</td>\n",
       "      <td>0.00</td>\n",
       "      <td>16.5</td>\n",
       "      <td>20.30</td>\n",
       "      <td>13.581567</td>\n",
       "    </tr>\n",
       "    <tr>\n",
       "      <th>2020-01-01 03:51:26</th>\n",
       "      <td>2.0</td>\n",
       "      <td>2020-01-01 04:11:41</td>\n",
       "      <td>1.0</td>\n",
       "      <td>1.45</td>\n",
       "      <td>0.00</td>\n",
       "      <td>13.0</td>\n",
       "      <td>16.30</td>\n",
       "      <td>13.573353</td>\n",
       "    </tr>\n",
       "    <tr>\n",
       "      <th>2020-01-01 23:46:06</th>\n",
       "      <td>2.0</td>\n",
       "      <td>2020-01-02 00:06:34</td>\n",
       "      <td>2.0</td>\n",
       "      <td>5.30</td>\n",
       "      <td>4.16</td>\n",
       "      <td>17.5</td>\n",
       "      <td>24.96</td>\n",
       "      <td>13.577013</td>\n",
       "    </tr>\n",
       "  </tbody>\n",
       "</table>\n",
       "</div>"
      ],
      "text/plain": [
       "                      VendorID tpep_dropoff_datetime  passenger_count  \\\n",
       "tpep_pickup_datetime                                                    \n",
       "2019-12-31 23:59:28        2.0   2020-01-01 00:13:07              2.0   \n",
       "2019-12-31 23:59:32        2.0   2020-01-01 00:06:16              1.0   \n",
       "2019-12-31 23:59:36        2.0   2020-01-01 00:11:16              1.0   \n",
       "2019-12-31 23:59:39        2.0   2020-01-01 00:02:59              5.0   \n",
       "2019-12-31 23:59:41        2.0   2020-01-01 00:20:22              1.0   \n",
       "2019-12-31 23:59:41        2.0   2020-01-01 00:20:22              1.0   \n",
       "2019-12-31 23:59:41        2.0   2020-01-01 00:30:05              3.0   \n",
       "2019-12-31 23:59:41        2.0   2020-01-01 00:30:05              3.0   \n",
       "2019-12-31 23:59:43        1.0   2020-01-01 00:31:03              0.0   \n",
       "2019-12-31 23:59:47        2.0   2020-01-01 00:18:23              1.0   \n",
       "2019-12-31 23:59:49        1.0   2020-01-01 00:15:08              1.0   \n",
       "2019-12-31 23:59:51        2.0   2020-01-01 00:16:04              5.0   \n",
       "2019-12-31 23:59:52        1.0   2020-01-01 00:09:31              1.0   \n",
       "2020-01-01 00:00:06        2.0   2020-01-01 00:18:13              1.0   \n",
       "2020-01-01 00:00:46        2.0   2020-01-01 00:16:15              1.0   \n",
       "2020-01-01 00:02:13        2.0   2020-01-01 00:04:55              1.0   \n",
       "2020-01-01 00:03:25        2.0   2020-01-01 00:27:57              1.0   \n",
       "2020-01-01 00:03:35        2.0   2020-01-01 00:24:24              5.0   \n",
       "2020-01-01 03:51:26        2.0   2020-01-01 04:11:41              1.0   \n",
       "2020-01-01 23:46:06        2.0   2020-01-02 00:06:34              2.0   \n",
       "\n",
       "                      trip_distance  tip_amount  fare_amount  total_amount  \\\n",
       "tpep_pickup_datetime                                                         \n",
       "2019-12-31 23:59:28           11.65        0.00         31.5         32.80   \n",
       "2019-12-31 23:59:32            2.50        0.00          9.0         10.30   \n",
       "2019-12-31 23:59:36            4.48        0.00         15.0         18.80   \n",
       "2019-12-31 23:59:39            0.35        0.00          4.0          7.80   \n",
       "2019-12-31 23:59:41            6.58        0.00         22.5         26.30   \n",
       "2019-12-31 23:59:41            6.58        0.00         22.5         26.30   \n",
       "2019-12-31 23:59:41            4.02        4.86         20.5         29.16   \n",
       "2019-12-31 23:59:41            4.02        4.86         20.5         29.16   \n",
       "2019-12-31 23:59:43            4.80        0.00         22.0         25.80   \n",
       "2019-12-31 23:59:47            1.36        0.00         12.0         15.80   \n",
       "2019-12-31 23:59:49            0.80        0.00         10.0         13.80   \n",
       "2019-12-31 23:59:51            8.31        7.86         24.0         39.28   \n",
       "2019-12-31 23:59:52            2.30        0.00          9.5         13.30   \n",
       "2020-01-01 00:00:06            4.51        0.00         16.0         19.80   \n",
       "2020-01-01 00:00:46            3.01        3.36         13.0         20.16   \n",
       "2020-01-01 00:02:13            0.44        1.56          4.0          9.36   \n",
       "2020-01-01 00:03:25            3.04        0.00         17.0         20.80   \n",
       "2020-01-01 00:03:35            3.70        0.00         16.5         20.30   \n",
       "2020-01-01 03:51:26            1.45        0.00         13.0         16.30   \n",
       "2020-01-01 23:46:06            5.30        4.16         17.5         24.96   \n",
       "\n",
       "                      fare_amount_rolled  \n",
       "tpep_pickup_datetime                      \n",
       "2019-12-31 23:59:28            13.581848  \n",
       "2019-12-31 23:59:32            13.581843  \n",
       "2019-12-31 23:59:36            13.581833  \n",
       "2019-12-31 23:59:39            13.581831  \n",
       "2019-12-31 23:59:41            13.581837  \n",
       "2019-12-31 23:59:41            13.581838  \n",
       "2019-12-31 23:59:41            13.581837  \n",
       "2019-12-31 23:59:41            13.581838  \n",
       "2019-12-31 23:59:43            13.581839  \n",
       "2019-12-31 23:59:47            13.581835  \n",
       "2019-12-31 23:59:49            13.581835  \n",
       "2019-12-31 23:59:51            13.581833  \n",
       "2019-12-31 23:59:52            13.581832  \n",
       "2020-01-01 00:00:06            13.581819  \n",
       "2020-01-01 00:00:46            13.581769  \n",
       "2020-01-01 00:02:13            13.581654  \n",
       "2020-01-01 00:03:25            13.581566  \n",
       "2020-01-01 00:03:35            13.581567  \n",
       "2020-01-01 03:51:26            13.573353  \n",
       "2020-01-01 23:46:06            13.577013  "
      ]
     },
     "execution_count": 17,
     "metadata": {},
     "output_type": "execute_result"
    }
   ],
   "source": [
    "taxi_new[['VendorID', 'tpep_dropoff_datetime','passenger_count','trip_distance','tip_amount',\n",
    "          'fare_amount', 'total_amount', 'fare_amount_rolled',]].tail(20)"
   ]
  }
 ],
 "metadata": {
  "kernelspec": {
   "display_name": "Python 3",
   "language": "python",
   "name": "python3"
  },
  "language_info": {
   "codemirror_mode": {
    "name": "ipython",
    "version": 3
   },
   "file_extension": ".py",
   "mimetype": "text/x-python",
   "name": "python",
   "nbconvert_exporter": "python",
   "pygments_lexer": "ipython3",
   "version": "3.7.7"
  }
 },
 "nbformat": 4,
 "nbformat_minor": 4
}
